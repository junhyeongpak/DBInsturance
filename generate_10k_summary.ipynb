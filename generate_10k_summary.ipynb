{
 "cells": [
  {
   "cell_type": "code",
   "execution_count": 3,
   "metadata": {},
   "outputs": [],
   "source": [
    "import os\n",
    "from dotenv import load_dotenv\n",
    "import openai"
   ]
  },
  {
   "cell_type": "code",
   "execution_count": 4,
   "metadata": {},
   "outputs": [],
   "source": [
    "load_dotenv()\n",
    "\n",
    "# Retrieve API key from .env\n",
    "OPENAI_API_KEY = os.getenv(\"OPENAI_API_KEY\")"
   ]
  },
  {
   "cell_type": "code",
   "execution_count": 3,
   "metadata": {},
   "outputs": [],
   "source": [
    "def generate_10k_summary(item_1, item_1a, item_5, item_6, item_7, item_10, item_11, item_12):\n",
    "    \"\"\"\n",
    "    Generate a structured summary of the 10-K report based on extracted sections using GPT-4o.\n",
    "    \"\"\"\n",
    "    prompt = f\"\"\"\n",
    "    You are a financial analyst specializing in SEC filings. Your task is to analyze the provided 10-K report sections and generate a structured summary for an investor report.\n",
    "\n",
    "    **Business Overview (Item 1)**\n",
    "    {item_1}\n",
    "\n",
    "    **Risk Factors (Item 1A)**\n",
    "    {item_1a}\n",
    "\n",
    "    **Financial Statements (Item 5, Item 6, Item 7)**\n",
    "    {item_5}\n",
    "    {item_6}\n",
    "    {item_7}\n",
    "\n",
    "    **Management Discussion and Analysis (MD&A) (Item 10, Item 11, Item 12)**\n",
    "    {item_10}\n",
    "    {item_11}\n",
    "    {item_12}\n",
    "\n",
    "    ### **Instructions:**\n",
    "    - Summarize each section concisely, focusing on key insights.\n",
    "    - Highlight positive signals (e.g., strong market position, revenue growth) and potential risks (e.g., high debt, declining margins).\n",
    "    - Ensure the report is well-structured and professional.\n",
    "\n",
    "    ### **Output Format:**\n",
    "    **1. Business Overview:** (Provide a 2-3 sentence summary)\n",
    "    **2. Key Risk Factors:** (List 3-5 major risks with brief explanations)\n",
    "    **3. Financial Summary:** (Highlight revenue trends, profitability, liquidity, and debt concerns)\n",
    "    **4. Management Insights:** (Summarize leadership's view on company strategy and financial performance)\n",
    "    \"\"\"\n",
    "\n",
    "    response = openai.ChatCompletion.create(\n",
    "        model=\"gpt-4o\",\n",
    "        messages=[\n",
    "            {\"role\": \"system\", \"content\": \"You are a financial analyst generating SEC 10-K report summaries.\"},\n",
    "            {\"role\": \"user\", \"content\": prompt}\n",
    "        ]\n",
    "    )\n",
    "\n",
    "    return response.choices[0].message.content\n"
   ]
  },
  {
   "cell_type": "code",
   "execution_count": 4,
   "metadata": {},
   "outputs": [
    {
     "name": "stdout",
     "output_type": "stream",
     "text": [
      "### Investor Report Summary for Company XYZ\n",
      "\n",
      "**1. Business Overview:**  \n",
      "Company XYZ operates in the dynamic AI industry with a focus on providing cloud-based solutions. The firm is positioned to leverage its technological prowess and expertise to cater to growing market demands in this digital age.\n",
      "\n",
      "**2. Key Risk Factors:**  \n",
      "- **Market Competition:** The company faces intense competition from both established firms and emerging players in the AI industry, possibly affecting its market share and profitability.\n",
      "- **Regulatory Scrutiny:** Increasing regulatory requirements and scrutiny could lead to higher compliance costs and operational adjustments.\n",
      "- **Cost Management:** Rising operational costs have the potential to strain profit margins if not effectively managed.\n",
      "- **Debt Levels:** Elevated debt levels could increase financial risk through higher interest expenses and reduced financial flexibility.\n",
      "\n",
      "**3. Financial Summary:**  \n",
      "Company XYZ reported a robust revenue growth of 20% year-over-year, indicating strong market demand and effective sales strategies. However, despite the revenue surge, the net profit margin has decreased due to heightened costs, which points to potential inefficiencies or rising expenses. Liquidity remains strong, evidenced by a current ratio of 2.5, suggesting a solid ability to meet short-term obligations. However, the rise in debt has increased interest expenses, impacting overall financial stability.\n",
      "\n",
      "**4. Management Insights:**  \n",
      "The management, led by the CEO, is focused on ensuring sustainable growth and enhancing operational efficiency. A significant investment in research and development is planned to further expand AI capabilities, which is expected to drive future innovation and competitiveness. Additionally, the company is eyeing international expansion and strategic acquisitions as part of its growth strategy, aiming to capitalize on global opportunities. Management's emphasis on these areas highlights their commitment to long-term value creation and market leadership.\n"
     ]
    }
   ],
   "source": [
    "# Example usage with extracted text data\n",
    "summary = generate_10k_summary(\n",
    "    item_1=\"Company XYZ operates in the AI industry, focusing on cloud-based solutions...\",\n",
    "    item_1a=\"The company faces risks such as market competition, regulatory scrutiny...\",\n",
    "    item_5=\"Revenue has grown 20% YoY, but net profit margin decreased due to increased costs...\",\n",
    "    item_6=\"Liquidity remains strong with a current ratio of 2.5...\",\n",
    "    item_7=\"Debt levels have risen, impacting interest expenses...\",\n",
    "    item_10=\"Management plans to invest heavily in R&D to expand AI capabilities...\",\n",
    "    item_11=\"CEO emphasized sustainable growth and operational efficiency...\",\n",
    "    item_12=\"Future plans include international expansion and strategic acquisitions...\"\n",
    ")\n",
    "print(summary)\n"
   ]
  },
  {
   "cell_type": "code",
   "execution_count": null,
   "metadata": {},
   "outputs": [],
   "source": []
  }
 ],
 "metadata": {
  "kernelspec": {
   "display_name": "venv",
   "language": "python",
   "name": "python3"
  },
  "language_info": {
   "codemirror_mode": {
    "name": "ipython",
    "version": 3
   },
   "file_extension": ".py",
   "mimetype": "text/x-python",
   "name": "python",
   "nbconvert_exporter": "python",
   "pygments_lexer": "ipython3",
   "version": "3.13.1"
  }
 },
 "nbformat": 4,
 "nbformat_minor": 2
}
