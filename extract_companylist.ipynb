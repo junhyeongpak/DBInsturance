{
 "cells": [
  {
   "cell_type": "code",
   "execution_count": 3,
   "metadata": {},
   "outputs": [],
   "source": [
    "import os\n",
    "import re\n",
    "from collections import defaultdict"
   ]
  },
  {
   "cell_type": "code",
   "execution_count": 4,
   "metadata": {},
   "outputs": [],
   "source": [
    "def group_merged_files(directory: str):\n",
    "    \"\"\"\n",
    "    지정된 폴더 내 {종목명}_Merged_{연도}.csv 형식의 파일을 종목별로 그룹화하여 반환합니다.\n",
    "\n",
    "    Parameters:\n",
    "    directory (str): CSV 파일들이 저장된 디렉토리 경로\n",
    "\n",
    "    Returns:\n",
    "    dict: {종목명: [파일 목록]} 형태의 딕셔너리\n",
    "    \"\"\"\n",
    "    file_pattern = re.compile(r\"(.+)_Merged_(\\d{4})\\.csv\")\n",
    "    grouped_files = defaultdict(list)\n",
    "\n",
    "    for filename in os.listdir(directory):\n",
    "        match = file_pattern.match(filename)\n",
    "        if match:\n",
    "            stock_name = match.group(1)  # 종목명 추출\n",
    "            grouped_files[stock_name].append(filename)\n",
    "\n",
    "    return dict(grouped_files)"
   ]
  },
  {
   "cell_type": "code",
   "execution_count": 5,
   "metadata": {},
   "outputs": [],
   "source": [
    "# 사용 예시\n",
    "directory_path = \"merged_data\"  # 실제 폴더 경로로 변경\n",
    "grouped_files = group_merged_files(directory_path)"
   ]
  },
  {
   "cell_type": "code",
   "execution_count": 6,
   "metadata": {},
   "outputs": [
    {
     "name": "stdout",
     "output_type": "stream",
     "text": [
      "AAPL: ['AAPL_Merged_2024.csv', 'AAPL_Merged_2023.csv']\n",
      "DIS: ['DIS_Merged_2023.csv', 'DIS_Merged_2024.csv']\n",
      "MRK: ['MRK_Merged_2023.csv']\n",
      "PG: ['PG_Merged_2024.csv', 'PG_Merged_2023.csv']\n",
      "UNH: ['UNH_Merged_2023.csv']\n",
      "SHW: ['SHW_Merged_2023.csv']\n",
      "KO: ['KO_Merged_2023.csv']\n",
      "HON: ['HON_Merged_2024.csv', 'HON_Merged_2023.csv']\n",
      "V: ['V_Merged_2024.csv', 'V_Merged_2023.csv']\n",
      "MSFT: ['MSFT_Merged_2024.csv', 'MSFT_Merged_2023.csv']\n",
      "MMM: ['MMM_Merged_2023.csv', 'MMM_Merged_2024.csv']\n",
      "IBM: ['IBM_Merged_2023.csv']\n",
      "CSCO: ['CSCO_Merged_2023.csv', 'CSCO_Merged_2024.csv']\n",
      "AMZN: ['AMZN_Merged_2023.csv', 'AMZN_Merged_2024.csv']\n",
      "HD: ['HD_Merged_2024.csv', 'HD_Merged_2023.csv']\n",
      "TRV: ['TRV_Merged_2024.csv', 'TRV_Merged_2023.csv']\n",
      "MCD: ['MCD_Merged_2023.csv']\n",
      "NKE: ['NKE_Merged_2024.csv', 'NKE_Merged_2023.csv']\n",
      "CAT: ['CAT_Merged_2024.csv', 'CAT_Merged_2023.csv']\n",
      "VZ: ['VZ_Merged_2024.csv', 'VZ_Merged_2023.csv']\n",
      "JPM: ['JPM_Merged_2023.csv', 'JPM_Merged_2024.csv']\n",
      "GS: ['GS_Merged_2023.csv']\n",
      "AXP: ['AXP_Merged_2023.csv', 'AXP_Merged_2024.csv']\n",
      "WMT: ['WMT_Merged_2023.csv', 'WMT_Merged_2024.csv']\n",
      "CVX: ['CVX_Merged_2023.csv']\n",
      "NVDA: ['NVDA_Merged_2023.csv', 'NVDA_Merged_2024.csv']\n",
      "CRM: ['CRM_Merged_2024.csv', 'CRM_Merged_2023.csv']\n",
      "AMGN: ['AMGN_Merged_2023.csv', 'AMGN_Merged_2024.csv']\n",
      "BA: ['BA_Merged_2023.csv', 'BA_Merged_2024.csv']\n",
      "JNJ: ['JNJ_Merged_2024.csv', 'JNJ_Merged_2023.csv']\n"
     ]
    }
   ],
   "source": [
    "# 결과 출력\n",
    "for stock, files in grouped_files.items():\n",
    "    print(f\"{stock}: {files}\")"
   ]
  },
  {
   "cell_type": "code",
   "execution_count": 7,
   "metadata": {},
   "outputs": [
    {
     "data": {
      "text/plain": [
       "30"
      ]
     },
     "execution_count": 7,
     "metadata": {},
     "output_type": "execute_result"
    }
   ],
   "source": [
    "len(grouped_files)"
   ]
  },
  {
   "cell_type": "code",
   "execution_count": null,
   "metadata": {},
   "outputs": [],
   "source": []
  }
 ],
 "metadata": {
  "kernelspec": {
   "display_name": "venv",
   "language": "python",
   "name": "python3"
  },
  "language_info": {
   "codemirror_mode": {
    "name": "ipython",
    "version": 3
   },
   "file_extension": ".py",
   "mimetype": "text/x-python",
   "name": "python",
   "nbconvert_exporter": "python",
   "pygments_lexer": "ipython3",
   "version": "3.13.1"
  }
 },
 "nbformat": 4,
 "nbformat_minor": 2
}
