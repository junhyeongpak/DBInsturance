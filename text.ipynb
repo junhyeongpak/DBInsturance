{
 "cells": [
  {
   "cell_type": "code",
   "execution_count": 64,
   "metadata": {},
   "outputs": [],
   "source": [
    "from sec_api import QueryApi\n",
    "import json\n"
   ]
  },
  {
   "cell_type": "code",
   "execution_count": 67,
   "metadata": {},
   "outputs": [],
   "source": [
    "queryApi = QueryApi(api_key=\"7e86e18c471d289479f41cc2fdba9ce3c8c23f55907dd8cda7a4c48cfb7652ed\")\n"
   ]
  },
  {
   "cell_type": "code",
   "execution_count": 68,
   "metadata": {},
   "outputs": [],
   "source": [
    "search_query = 'ticker:AAPL AND formType:\"10-K\" AND filedAt:[2019-12-01 TO 2020-12-31]'\n",
    "\n",
    "parameters = {\n",
    "    \"query\": search_query,\n",
    "    \"from\": \"0\",\n",
    "    \"size\": \"2\",\n",
    "    \"sort\": [{\"filedAt\": {\"order\": \"desc\"}}],\n",
    "}"
   ]
  },
  {
   "cell_type": "code",
   "execution_count": 69,
   "metadata": {},
   "outputs": [],
   "source": [
    "response = queryApi.get_filings(parameters)"
   ]
  },
  {
   "cell_type": "code",
   "execution_count": 70,
   "metadata": {},
   "outputs": [
    {
     "name": "stdout",
     "output_type": "stream",
     "text": [
      "{\n",
      "  \"ticker\": \"AAPL\",\n",
      "  \"formType\": \"10-K\",\n",
      "  \"accessionNo\": \"0000320193-20-000096\",\n",
      "  \"cik\": \"320193\",\n",
      "  \"companyNameLong\": \"Apple Inc. (Filer)\",\n",
      "  \"companyName\": \"Apple Inc.\",\n",
      "  \"linkToFilingDetails\": \"https://www.sec.gov/Archives/edgar/data/320193/000032019320000096/aapl-20200926.htm\",\n",
      "  \"description\": \"Form 10-K - Annual report [Section 13 and 15(d), not S-K Item 405]\",\n",
      "  \"linkToTxt\": \"https://www.sec.gov/Archives/edgar/data/320193/000032019320000096/0000320193-20-000096.txt\",\n",
      "  \"filedAt\": \"2020-10-29T18:06:25-04:00\",\n",
      "  \"documentFormatFiles\": [\n",
      "    {\n",
      "      \"sequence\": \"1\",\n",
      "      \"size\": \"2467306\",\n",
      "      \"documentUrl\": \"https://www.sec.gov/ix?doc=/Archives/edgar/data/320193/000032019320000096/aapl-20200926.htm\",\n",
      "      \"description\": \"10-K\",\n",
      "      \"type\": \"10-K\"\n",
      "    },\n",
      "    {\n",
      "      \"sequence\": \"2\",\n",
      "      \"size\": \"123356\",\n",
      "      \"documentUrl\": \"https://www.sec.gov/Archives/edgar/data/320193/000032019320000096/a10-kexhibit419262020.htm\",\n",
      "      \"description\": \"EX-4.1\",\n",
      "      \"type\": \"EX-4.1\"\n",
      "    },\n",
      "    {\n",
      "      \"sequence\": \"3\",\n",
      "      \"size\": \"56918\",\n",
      "      \"documentUrl\": \"https://www.sec.gov/Archives/edgar/data/320193/000032019320000096/a10-kexhibit10169262020.htm\",\n",
      "      \"description\": \"EX-10.16\",\n",
      "      \"type\": \"EX-10.16\"\n",
      "    },\n",
      "    {\n",
      "      \"sequence\": \"4\",\n",
      "      \"size\": \"74685\",\n",
      "      \"documentUrl\": \"https://www.sec.gov/Archives/edgar/data/320193/000032019320000096/a10-kexhibit10179262020.htm\",\n",
      "      \"description\": \"EX-10.17\",\n",
      "      \"type\": \"EX-10.17\"\n",
      "    },\n",
      "    {\n",
      "      \"sequence\": \"5\",\n",
      "      \"size\": \"9230\",\n",
      "      \"documentUrl\": \"https://www.sec.gov/Archives/edgar/data/320193/000032019320000096/a10-kexhibit2119262020.htm\",\n",
      "      \"description\": \"EX-21.1\",\n",
      "      \"type\": \"EX-21.1\"\n",
      "    },\n",
      "    {\n",
      "      \"sequence\": \"6\",\n",
      "      \"size\": \"5991\",\n",
      "      \"documentUrl\": \"https://www.sec.gov/Archives/edgar/data/320193/000032019320000096/a10-kexhibit2319262020.htm\",\n",
      "      \"description\": \"EX-23.1\",\n",
      "      \"type\": \"EX-23.1\"\n",
      "    },\n",
      "    {\n",
      "      \"sequence\": \"7\",\n",
      "      \"size\": \"10582\",\n",
      "      \"documentUrl\": \"https://www.sec.gov/Archives/edgar/data/320193/000032019320000096/a10-kexhibit3119262020.htm\",\n",
      "      \"description\": \"EX-31.1\",\n",
      "      \"type\": \"EX-31.1\"\n",
      "    },\n",
      "    {\n",
      "      \"sequence\": \"8\",\n",
      "      \"size\": \"10618\",\n",
      "      \"documentUrl\": \"https://www.sec.gov/Archives/edgar/data/320193/000032019320000096/a10-kexhibit3129262020.htm\",\n",
      "      \"description\": \"EX-31.2\",\n",
      "      \"type\": \"EX-31.2\"\n",
      "    },\n",
      "    {\n",
      "      \"sequence\": \"9\",\n",
      "      \"size\": \"8476\",\n",
      "      \"documentUrl\": \"https://www.sec.gov/Archives/edgar/data/320193/000032019320000096/a10-kexhibit3219262020.htm\",\n",
      "      \"description\": \"EX-32.1\",\n",
      "      \"type\": \"EX-32.1\"\n",
      "    },\n",
      "    {\n",
      "      \"sequence\": \"15\",\n",
      "      \"size\": \"10963\",\n",
      "      \"documentUrl\": \"https://www.sec.gov/Archives/edgar/data/320193/000032019320000096/aapl-20200926_g1.jpg\",\n",
      "      \"type\": \"GRAPHIC\"\n",
      "    },\n",
      "    {\n",
      "      \"sequence\": \"16\",\n",
      "      \"size\": \"169473\",\n",
      "      \"documentUrl\": \"https://www.sec.gov/Archives/edgar/data/320193/000032019320000096/aapl-20200926_g2.jpg\",\n",
      "      \"type\": \"GRAPHIC\"\n",
      "    },\n",
      "    {\n",
      "      \"sequence\": \"\\u00a0\",\n",
      "      \"size\": \"12502600\",\n",
      "      \"documentUrl\": \"https://www.sec.gov/Archives/edgar/data/320193/000032019320000096/0000320193-20-000096.txt\",\n",
      "      \"description\": \"Complete submission text file\",\n",
      "      \"type\": \"\\u00a0\"\n",
      "    }\n",
      "  ],\n",
      "  \"periodOfReport\": \"2020-09-26\",\n",
      "  \"entities\": [\n",
      "    {\n",
      "      \"fiscalYearEnd\": \"0926\",\n",
      "      \"stateOfIncorporation\": \"CA\",\n",
      "      \"act\": \"34\",\n",
      "      \"cik\": \"0000320193\",\n",
      "      \"fileNo\": \"001-36743\",\n",
      "      \"irsNo\": \"942404110\",\n",
      "      \"companyName\": \"Apple Inc. (Filer)\",\n",
      "      \"type\": \"10-K\",\n",
      "      \"sic\": \"3571 Electronic Computers\",\n",
      "      \"filmNo\": \"201273977\"\n",
      "    }\n",
      "  ],\n",
      "  \"id\": \"96618433ccb8db908723fb09aa081a34\",\n",
      "  \"seriesAndClassesContractsInformation\": [],\n",
      "  \"linkToHtml\": \"https://www.sec.gov/Archives/edgar/data/320193/000032019320000096/0000320193-20-000096-index.htm\",\n",
      "  \"linkToXbrl\": \"\",\n",
      "  \"dataFiles\": [\n",
      "    {\n",
      "      \"sequence\": \"10\",\n",
      "      \"size\": \"64821\",\n",
      "      \"documentUrl\": \"https://www.sec.gov/Archives/edgar/data/320193/000032019320000096/aapl-20200926.xsd\",\n",
      "      \"description\": \"XBRL TAXONOMY EXTENSION SCHEMA DOCUMENT\",\n",
      "      \"type\": \"EX-101.SCH\"\n",
      "    },\n",
      "    {\n",
      "      \"sequence\": \"11\",\n",
      "      \"size\": \"159538\",\n",
      "      \"documentUrl\": \"https://www.sec.gov/Archives/edgar/data/320193/000032019320000096/aapl-20200926_cal.xml\",\n",
      "      \"description\": \"XBRL TAXONOMY EXTENSION CALCULATION LINKBASE DOCUMENT\",\n",
      "      \"type\": \"EX-101.CAL\"\n",
      "    },\n",
      "    {\n",
      "      \"sequence\": \"12\",\n",
      "      \"size\": \"348789\",\n",
      "      \"documentUrl\": \"https://www.sec.gov/Archives/edgar/data/320193/000032019320000096/aapl-20200926_def.xml\",\n",
      "      \"description\": \"XBRL TAXONOMY EXTENSION DEFINITION LINKBASE DOCUMENT\",\n",
      "      \"type\": \"EX-101.DEF\"\n",
      "    },\n",
      "    {\n",
      "      \"sequence\": \"13\",\n",
      "      \"size\": \"900558\",\n",
      "      \"documentUrl\": \"https://www.sec.gov/Archives/edgar/data/320193/000032019320000096/aapl-20200926_lab.xml\",\n",
      "      \"description\": \"XBRL TAXONOMY EXTENSION LABEL LINKBASE DOCUMENT\",\n",
      "      \"type\": \"EX-101.LAB\"\n",
      "    },\n",
      "    {\n",
      "      \"sequence\": \"14\",\n",
      "      \"size\": \"574436\",\n",
      "      \"documentUrl\": \"https://www.sec.gov/Archives/edgar/data/320193/000032019320000096/aapl-20200926_pre.xml\",\n",
      "      \"description\": \"XBRL TAXONOMY EXTENSION PRESENTATION LINKBASE DOCUMENT\",\n",
      "      \"type\": \"EX-101.PRE\"\n",
      "    },\n",
      "    {\n",
      "      \"sequence\": \"17\",\n",
      "      \"size\": \"2405367\",\n",
      "      \"documentUrl\": \"https://www.sec.gov/Archives/edgar/data/320193/000032019320000096/aapl-20200926_htm.xml\",\n",
      "      \"description\": \"EXTRACTED XBRL INSTANCE DOCUMENT\",\n",
      "      \"type\": \"XML\"\n",
      "    }\n",
      "  ]\n",
      "}\n"
     ]
    }
   ],
   "source": [
    "print(json.dumps(response[\"filings\"][0], indent=2))\n"
   ]
  },
  {
   "cell_type": "code",
   "execution_count": 71,
   "metadata": {},
   "outputs": [
    {
     "name": "stdout",
     "output_type": "stream",
     "text": [
      "https://www.sec.gov/Archives/edgar/data/320193/000032019320000096/aapl-20200926.htm\n"
     ]
    }
   ],
   "source": [
    "for i in response['filings']:\n",
    "    if \"linkToFilingDetails\" in i:\n",
    "        print(i['linkToFilingDetails'])"
   ]
  },
  {
   "cell_type": "code",
   "execution_count": 78,
   "metadata": {},
   "outputs": [
    {
     "name": "stdout",
     "output_type": "stream",
     "text": [
      "Ticker: BA, URL: https://www.sec.gov/ix?doc=/Archives/edgar/data/12927/000001292720000014/a201912dec3110k.htm, filedAt: 2020-01-31T13:23:40-05:00\n",
      "Ticker: AAPL, URL: https://www.sec.gov/Archives/edgar/data/320193/000032019320000096/aapl-20200926.htm, filedAt: 2020-10-29T18:06:25-04:00\n",
      "Ticker: UNH, URL: https://www.sec.gov/ix?doc=/Archives/edgar/data/731766/000073176620000006/unh2019123110-k.htm, filedAt: 2020-02-14T17:18:38-05:00\n"
     ]
    }
   ],
   "source": [
    "dow_30_tickers = ['BA', 'AAPL', 'UNH']\n",
    "\n",
    "filing_data = []\n",
    "\n",
    "for ticker in dow_30_tickers:\n",
    "    search_query = f'ticker:{ticker} AND formType:\"10-K\" AND filedAt:[2020-01-01 TO 2020-12-31]'\n",
    "    \n",
    "    parameters = {\n",
    "        \"query\": search_query,\n",
    "        \"from\": \"0\",\n",
    "        \"size\": \"2\",\n",
    "        \"sort\": [{\"filedAt\": {\"order\": \"desc\"}}],\n",
    "    }\n",
    "    \n",
    "    response = queryApi.get_filings(parameters)  # API 호출\n",
    "    \n",
    "\n",
    "    if response and \"filings\" in response:\n",
    "        for filing in response[\"filings\"]:\n",
    "            if \"linkToFilingDetails\" in filing and \"filedAt\" in filing:\n",
    "                filing_data.append({\n",
    "                    \"ticker\": ticker,\n",
    "                    \"url\": filing[\"linkToFilingDetails\"],\n",
    "                    \"filedAt\": filing[\"filedAt\"]\n",
    "                })\n",
    "\n",
    "# 확인용 출력\n",
    "for data in filing_data:\n",
    "    print(f\"Ticker: {data['ticker']}, URL: {data['url']}, filedAt: {data['filedAt']}\")"
   ]
  },
  {
   "cell_type": "code",
   "execution_count": 41,
   "metadata": {},
   "outputs": [
    {
     "data": {
      "text/plain": [
       "[]"
      ]
     },
     "execution_count": 41,
     "metadata": {},
     "output_type": "execute_result"
    }
   ],
   "source": [
    "filing_data"
   ]
  }
 ],
 "metadata": {
  "kernelspec": {
   "display_name": "venv",
   "language": "python",
   "name": "python3"
  },
  "language_info": {
   "codemirror_mode": {
    "name": "ipython",
    "version": 3
   },
   "file_extension": ".py",
   "mimetype": "text/x-python",
   "name": "python",
   "nbconvert_exporter": "python",
   "pygments_lexer": "ipython3",
   "version": "3.13.1"
  }
 },
 "nbformat": 4,
 "nbformat_minor": 2
}
