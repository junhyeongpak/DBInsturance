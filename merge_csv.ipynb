{
 "cells": [
  {
   "cell_type": "code",
   "execution_count": 1,
   "metadata": {},
   "outputs": [],
   "source": [
    "import os\n",
    "import pandas as pd"
   ]
  },
  {
   "cell_type": "code",
   "execution_count": 2,
   "metadata": {},
   "outputs": [],
   "source": [
    "# 데이터 폴더 경로\n",
    "input_folder = \"financial_data\"\n",
    "output_folder = \"merged_data\""
   ]
  },
  {
   "cell_type": "code",
   "execution_count": 3,
   "metadata": {},
   "outputs": [],
   "source": [
    "# 저장할 폴더 생성\n",
    "os.makedirs(output_folder, exist_ok=True)\n",
    "\n",
    "# 파일 목록 가져오기\n",
    "files = os.listdir(input_folder)"
   ]
  },
  {
   "cell_type": "code",
   "execution_count": 4,
   "metadata": {},
   "outputs": [],
   "source": [
    "# 종목명과 연도를 추출하여 정리\n",
    "data_dict = {}"
   ]
  },
  {
   "cell_type": "code",
   "execution_count": 5,
   "metadata": {},
   "outputs": [],
   "source": [
    "for file in files:\n",
    "    parts = file.split(\"_\")\n",
    "    if len(parts) < 4:\n",
    "        continue  # 파일 이름 형식이 맞지 않으면 건너뜀\n",
    "    \n",
    "    stock_name = parts[0]\n",
    "    report_type = parts[1] + \"_\" + parts[2]  # 예: \"Balance_Sheet\"\n",
    "    year = parts[3].split(\".\")[0]  # 연도 추출\n",
    "    \n",
    "    key = (stock_name, year)\n",
    "    if key not in data_dict:\n",
    "        data_dict[key] = {}\n",
    "\n",
    "    data_dict[key][report_type] = os.path.join(input_folder, file)\n"
   ]
  },
  {
   "cell_type": "code",
   "execution_count": 6,
   "metadata": {},
   "outputs": [
    {
     "name": "stdout",
     "output_type": "stream",
     "text": [
      "저장 완료: merged_data/AAPL_Merged_2023.csv\n",
      "저장 완료: merged_data/CAT_Merged_2024.csv\n",
      "저장 완료: merged_data/CVX_Merged_2023.csv\n",
      "저장 완료: merged_data/JPM_Merged_2023.csv\n",
      "저장 완료: merged_data/HD_Merged_2023.csv\n",
      "저장 완료: merged_data/MCD_Merged_2023.csv\n",
      "저장 완료: merged_data/TRV_Merged_2024.csv\n",
      "저장 완료: merged_data/PG_Merged_2023.csv\n",
      "저장 완료: merged_data/NKE_Merged_2024.csv\n",
      "저장 완료: merged_data/CAT_Merged_2023.csv\n",
      "저장 완료: merged_data/BA_Merged_2024.csv\n",
      "저장 완료: merged_data/MMM_Merged_2024.csv\n",
      "저장 완료: merged_data/DIS_Merged_2023.csv\n",
      "저장 완료: merged_data/MSFT_Merged_2023.csv\n",
      "저장 완료: merged_data/NVDA_Merged_2024.csv\n",
      "저장 완료: merged_data/JNJ_Merged_2023.csv\n",
      "저장 완료: merged_data/KO_Merged_2023.csv\n",
      "저장 완료: merged_data/AMZN_Merged_2023.csv\n",
      "저장 완료: merged_data/UNH_Merged_2023.csv\n",
      "저장 완료: merged_data/BA_Merged_2023.csv\n",
      "저장 완료: merged_data/NKE_Merged_2023.csv\n",
      "저장 완료: merged_data/PG_Merged_2024.csv\n",
      "저장 완료: merged_data/TRV_Merged_2023.csv\n",
      "저장 완료: merged_data/HD_Merged_2024.csv\n",
      "저장 완료: merged_data/JPM_Merged_2024.csv\n",
      "저장 완료: merged_data/AAPL_Merged_2024.csv\n",
      "저장 완료: merged_data/MMM_Merged_2023.csv\n",
      "저장 완료: merged_data/GS_Merged_2023.csv\n",
      "저장 완료: merged_data/AMZN_Merged_2024.csv\n",
      "저장 완료: merged_data/JNJ_Merged_2024.csv\n",
      "저장 완료: merged_data/NVDA_Merged_2023.csv\n",
      "저장 완료: merged_data/DIS_Merged_2024.csv\n",
      "저장 완료: merged_data/IBM_Merged_2023.csv\n",
      "저장 완료: merged_data/MSFT_Merged_2024.csv\n",
      "저장 완료: merged_data/V_Merged_2023.csv\n",
      "저장 완료: merged_data/AMGN_Merged_2024.csv\n",
      "저장 완료: merged_data/VZ_Merged_2023.csv\n",
      "저장 완료: merged_data/V_Merged_2024.csv\n",
      "저장 완료: merged_data/WMT_Merged_2024.csv\n",
      "저장 완료: merged_data/CSCO_Merged_2023.csv\n",
      "저장 완료: merged_data/HON_Merged_2023.csv\n",
      "저장 완료: merged_data/CRM_Merged_2023.csv\n",
      "저장 완료: merged_data/VZ_Merged_2024.csv\n",
      "저장 완료: merged_data/AMGN_Merged_2023.csv\n",
      "저장 완료: merged_data/CRM_Merged_2024.csv\n",
      "저장 완료: merged_data/HON_Merged_2024.csv\n",
      "저장 완료: merged_data/CSCO_Merged_2024.csv\n",
      "저장 완료: merged_data/MRK_Merged_2023.csv\n",
      "저장 완료: merged_data/WMT_Merged_2023.csv\n",
      "저장 완료: merged_data/AXP_Merged_2023.csv\n",
      "저장 완료: merged_data/AXP_Merged_2024.csv\n",
      "저장 완료: merged_data/SHW_Merged_2023.csv\n"
     ]
    }
   ],
   "source": [
    "# 종목명과 연도별로 행 방향 병합 수행\n",
    "for (stock_name, year), file_paths in data_dict.items():\n",
    "    if \"Balance_Sheet\" in file_paths and \"Cash_Flow\" in file_paths and \"Income_Statement\" in file_paths:\n",
    "        df_balance = pd.read_csv(file_paths[\"Balance_Sheet\"])\n",
    "        df_cash = pd.read_csv(file_paths[\"Cash_Flow\"])\n",
    "        df_income = pd.read_csv(file_paths[\"Income_Statement\"])\n",
    "\n",
    "        # 행 방향으로 합병 (index는 유지)\n",
    "        merged_df = pd.concat([df_balance, df_cash, df_income], axis=0)\n",
    "\n",
    "        # 저장 파일명\n",
    "        output_file = os.path.join(output_folder, f\"{stock_name}_Merged_{year}.csv\")\n",
    "\n",
    "        # CSV 저장\n",
    "        merged_df.to_csv(output_file, index=False)\n",
    "        print(f\"저장 완료: {output_file}\")\n",
    "    else:\n",
    "        print(f\"파일 누락으로 병합 불가: {stock_name} {year}\")"
   ]
  },
  {
   "cell_type": "code",
   "execution_count": 7,
   "metadata": {},
   "outputs": [],
   "source": [
    "# 입력 폴더 & 출력 폴더 설정\n",
    "input_folder = \"merged_data\"\n",
    "output_folder = \"financial_ratios\""
   ]
  },
  {
   "cell_type": "code",
   "execution_count": 8,
   "metadata": {},
   "outputs": [],
   "source": [
    "# 저장 폴더 생성\n",
    "os.makedirs(output_folder, exist_ok=True)\n",
    "\n",
    "# 모든 CSV 파일 찾기\n",
    "files = [f for f in os.listdir(input_folder) if f.endswith(\".csv\")]\n",
    "\n",
    "# 결과 저장 리스트\n",
    "all_data = []"
   ]
  },
  {
   "cell_type": "code",
   "execution_count": 10,
   "metadata": {},
   "outputs": [
    {
     "name": "stdout",
     "output_type": "stream",
     "text": [
      "📁 저장 완료: financial_ratios/AAPL_Financial_Ratios_2024.csv\n",
      "📁 저장 완료: financial_ratios/DIS_Financial_Ratios_2023.csv\n",
      "📁 저장 완료: financial_ratios/MRK_Financial_Ratios_2023.csv\n",
      "📁 저장 완료: financial_ratios/PG_Financial_Ratios_2024.csv\n",
      "📁 저장 완료: financial_ratios/UNH_Financial_Ratios_2023.csv\n",
      "📁 저장 완료: financial_ratios/SHW_Financial_Ratios_2023.csv\n",
      "📁 저장 완료: financial_ratios/PG_Financial_Ratios_2023.csv\n",
      "📁 저장 완료: financial_ratios/DIS_Financial_Ratios_2024.csv\n",
      "📁 저장 완료: financial_ratios/AAPL_Financial_Ratios_2023.csv\n",
      "📁 저장 완료: financial_ratios/KO_Financial_Ratios_2023.csv\n",
      "📁 저장 완료: financial_ratios/HON_Financial_Ratios_2024.csv\n",
      "📁 저장 완료: financial_ratios/V_Financial_Ratios_2024.csv\n",
      "📁 저장 완료: financial_ratios/MSFT_Financial_Ratios_2024.csv\n",
      "📁 저장 완료: financial_ratios/MMM_Financial_Ratios_2023.csv\n",
      "📁 저장 완료: financial_ratios/IBM_Financial_Ratios_2023.csv\n",
      "📁 저장 완료: financial_ratios/CSCO_Financial_Ratios_2023.csv\n",
      "📁 저장 완료: financial_ratios/AMZN_Financial_Ratios_2023.csv\n",
      "📁 저장 완료: financial_ratios/HD_Financial_Ratios_2024.csv\n",
      "📁 저장 완료: financial_ratios/TRV_Financial_Ratios_2024.csv\n",
      "📁 저장 완료: financial_ratios/MMM_Financial_Ratios_2024.csv\n",
      "📁 저장 완료: financial_ratios/MSFT_Financial_Ratios_2023.csv\n",
      "📁 저장 완료: financial_ratios/V_Financial_Ratios_2023.csv\n",
      "📁 저장 완료: financial_ratios/MCD_Financial_Ratios_2023.csv\n",
      "📁 저장 완료: financial_ratios/HON_Financial_Ratios_2023.csv\n",
      "📁 저장 완료: financial_ratios/TRV_Financial_Ratios_2023.csv\n",
      "📁 저장 완료: financial_ratios/HD_Financial_Ratios_2023.csv\n",
      "📁 저장 완료: financial_ratios/AMZN_Financial_Ratios_2024.csv\n",
      "📁 저장 완료: financial_ratios/CSCO_Financial_Ratios_2024.csv\n",
      "📁 저장 완료: financial_ratios/NKE_Financial_Ratios_2024.csv\n",
      "📁 저장 완료: financial_ratios/CAT_Financial_Ratios_2024.csv\n",
      "📁 저장 완료: financial_ratios/VZ_Financial_Ratios_2024.csv\n",
      "📁 저장 완료: financial_ratios/JPM_Financial_Ratios_2023.csv\n",
      "📁 저장 완료: financial_ratios/GS_Financial_Ratios_2023.csv\n",
      "📁 저장 완료: financial_ratios/VZ_Financial_Ratios_2023.csv\n",
      "📁 저장 완료: financial_ratios/CAT_Financial_Ratios_2023.csv\n",
      "📁 저장 완료: financial_ratios/NKE_Financial_Ratios_2023.csv\n",
      "📁 저장 완료: financial_ratios/JPM_Financial_Ratios_2024.csv\n",
      "📁 저장 완료: financial_ratios/AXP_Financial_Ratios_2023.csv\n",
      "📁 저장 완료: financial_ratios/WMT_Financial_Ratios_2023.csv\n",
      "📁 저장 완료: financial_ratios/CVX_Financial_Ratios_2023.csv\n",
      "📁 저장 완료: financial_ratios/NVDA_Financial_Ratios_2023.csv\n",
      "📁 저장 완료: financial_ratios/CRM_Financial_Ratios_2024.csv\n",
      "📁 저장 완료: financial_ratios/AMGN_Financial_Ratios_2023.csv\n",
      "📁 저장 완료: financial_ratios/BA_Financial_Ratios_2023.csv\n",
      "📁 저장 완료: financial_ratios/JNJ_Financial_Ratios_2024.csv\n",
      "📁 저장 완료: financial_ratios/WMT_Financial_Ratios_2024.csv\n",
      "📁 저장 완료: financial_ratios/AXP_Financial_Ratios_2024.csv\n",
      "📁 저장 완료: financial_ratios/JNJ_Financial_Ratios_2023.csv\n",
      "📁 저장 완료: financial_ratios/BA_Financial_Ratios_2024.csv\n",
      "📁 저장 완료: financial_ratios/CRM_Financial_Ratios_2023.csv\n",
      "📁 저장 완료: financial_ratios/AMGN_Financial_Ratios_2024.csv\n",
      "📁 저장 완료: financial_ratios/NVDA_Financial_Ratios_2024.csv\n"
     ]
    }
   ],
   "source": [
    "for file in files:\n",
    "    file_path = os.path.join(input_folder, file)\n",
    "\n",
    "    # CSV 파일 읽기\n",
    "    df = pd.read_csv(file_path, index_col=0, header=None, names=[\"Indicator\", \"Value\"])\n",
    "\n",
    "    # 종목명과 연도 추출\n",
    "    parts = file.split(\"_\")\n",
    "    stock_name = parts[0]\n",
    "    year = parts[-1].split(\".\")[0]  # \"2023.csv\"에서 \"2023\" 추출\n",
    "\n",
    "    # 필요한 원천 데이터 추출\n",
    "    data = {\n",
    "        \"TotalAssets\": df.loc[df.index.str.contains(\"TotalAssets\", case=False, na=False), \"Value\"].values,\n",
    "        \"NetPPE\": df.loc[df.index.str.contains(\"NetPPE\", case=False, na=False), \"Value\"].values,\n",
    "        \"TotalRevenue\": df.loc[df.index.str.contains(\"TotalRevenue\", case=False, na=False), \"Value\"].values,\n",
    "        \"OperatingIncome\": df.loc[df.index.str.contains(\"OperatingIncome\", case=False, na=False), \"Value\"].values,\n",
    "        \"NetIncome\": df.loc[df.index.str.contains(\"NetIncome\", case=False, na=False), \"Value\"].values,\n",
    "        \"InterestExpense\": df.loc[df.index.str.contains(\"InterestExpense\", case=False, na=False), \"Value\"].values,\n",
    "        \"EBITDA\": df.loc[df.index.str.contains(\"EBITDA\", case=False, na=False), \"Value\"].values,\n",
    "        \"CurrentAssets\": df.loc[df.index.str.contains(\"CurrentAssets\", case=False, na=False), \"Value\"].values,\n",
    "        \"CurrentLiabilities\": df.loc[df.index.str.contains(\"CurrentLiabilities\", case=False, na=False), \"Value\"].values,\n",
    "        \"CashAndCashEquivalents\": df.loc[df.index.str.contains(\"CashAndCashEquivalents\", case=False, na=False), \"Value\"].values,\n",
    "        \"Receivables\": df.loc[df.index.str.contains(\"Receivables\", case=False, na=False), \"Value\"].values,\n",
    "        \"AccountsReceivable\": df.loc[df.index.str.contains(\"AccountsReceivable\", case=False, na=False), \"Value\"].values,\n",
    "        \"AccountsPayable\": df.loc[df.index.str.contains(\"AccountsPayable\", case=False, na=False), \"Value\"].values,\n",
    "        \"TotalLiabilities\": df.loc[df.index.str.contains(\"TotalLiabilitiesNetMinorityInterest\", case=False, na=False), \"Value\"].values,\n",
    "        \"StockholdersEquity\": df.loc[df.index.str.contains(\"StockholdersEquity\", case=False, na=False), \"Value\"].values,\n",
    "        \"TotalDebt\": df.loc[df.index.str.contains(\"TotalDebt\", case=False, na=False), \"Value\"].values,\n",
    "        \"CostOfRevenue\": df.loc[df.index.str.contains(\"CostOfRevenue\", case=False, na=False), \"Value\"].values,\n",
    "        \"Inventory\": df.loc[df.index.str.contains(\"Inventory\", case=False, na=False), \"Value\"].values,\n",
    "    }\n",
    "\n",
    "    # NaN을 방지하고 문자열을 숫자로 변환\n",
    "    for key in data:\n",
    "        try:\n",
    "            data[key] = float(data[key][0]) if len(data[key]) > 0 else 0.0\n",
    "        except ValueError:\n",
    "            data[key] = 0.0  # 변환 실패 시 0.0 할당\n",
    "\n",
    "    # 재무 비율 계산\n",
    "    ratios = {\n",
    "        \"종목명\": stock_name,\n",
    "        \"연도\": year,\n",
    "        \"총자산 증가율\": \"계산 불가 (이전 연도 필요)\",  # 이전 연도 데이터 필요\n",
    "        \"유형자산 증가율\": \"계산 불가 (이전 연도 필요)\",  # 이전 연도 데이터 필요\n",
    "        \"매출액 증가율\": \"계산 불가 (이전 연도 필요)\",  # 이전 연도 데이터 필요\n",
    "        \"매출액 영업이익률\": data[\"OperatingIncome\"] / data[\"TotalRevenue\"] if data[\"TotalRevenue\"] else None,\n",
    "        \"매출액 순이익률\": data[\"NetIncome\"] / data[\"TotalRevenue\"] if data[\"TotalRevenue\"] else None,\n",
    "        \"총자산 영업이익률\": data[\"OperatingIncome\"] / data[\"TotalAssets\"] if data[\"TotalAssets\"] else None,\n",
    "        \"총자산 순이익률\": data[\"NetIncome\"] / data[\"TotalAssets\"] if data[\"TotalAssets\"] else None,\n",
    "        \"영업이익 이자보상비율\": data[\"OperatingIncome\"] / data[\"InterestExpense\"] if data[\"InterestExpense\"] else None,\n",
    "        \"EBITDA대 매출액\": data[\"EBITDA\"] / data[\"TotalRevenue\"] if data[\"TotalRevenue\"] else None,\n",
    "        \"유동비율\": data[\"CurrentAssets\"] / data[\"CurrentLiabilities\"] if data[\"CurrentLiabilities\"] else None,\n",
    "        \"당좌비율\": (data[\"CashAndCashEquivalents\"] + data[\"Receivables\"]) / data[\"CurrentLiabilities\"] if data[\"CurrentLiabilities\"] else None,\n",
    "        \"매출채권/매입채무비율\": data[\"AccountsReceivable\"] / data[\"AccountsPayable\"] if data[\"AccountsPayable\"] else None,\n",
    "        \"부채비율\": data[\"TotalLiabilities\"] / data[\"StockholdersEquity\"] if data[\"StockholdersEquity\"] else None,\n",
    "        \"유동부채비율\": data[\"CurrentLiabilities\"] / data[\"TotalLiabilities\"] if data[\"TotalLiabilities\"] else None,\n",
    "        \"차입금의존도\": data[\"TotalDebt\"] / data[\"TotalAssets\"] if data[\"TotalAssets\"] else None,\n",
    "        \"총자산회전율\": data[\"TotalRevenue\"] / data[\"TotalAssets\"] if data[\"TotalAssets\"] else None,\n",
    "        \"재고자산회전율\": data[\"CostOfRevenue\"] / data[\"Inventory\"] if data[\"Inventory\"] else None,\n",
    "        \"매출채권회전율\": data[\"TotalRevenue\"] / data[\"AccountsReceivable\"] if data[\"AccountsReceivable\"] else None,\n",
    "    }\n",
    "\n",
    "    # 결과 저장\n",
    "    all_data.append(ratios)\n",
    "\n",
    "    # 개별 파일 저장\n",
    "    output_file = os.path.join(output_folder, f\"{stock_name}_Financial_Ratios_{year}.csv\")\n",
    "    pd.DataFrame([ratios]).to_csv(output_file, index=False)\n",
    "    print(f\"📁 저장 완료: {output_file}\")"
   ]
  },
  {
   "cell_type": "code",
   "execution_count": 11,
   "metadata": {},
   "outputs": [
    {
     "name": "stdout",
     "output_type": "stream",
     "text": [
      "📁 모든 종목 재무 비율 저장 완료: financial_ratios/All_Financial_Ratios.csv\n"
     ]
    }
   ],
   "source": [
    "# 전체 데이터 CSV 저장\n",
    "final_output = os.path.join(output_folder, \"All_Financial_Ratios.csv\")\n",
    "pd.DataFrame(all_data).to_csv(final_output, index=False)\n",
    "print(f\"📁 모든 종목 재무 비율 저장 완료: {final_output}\")"
   ]
  },
  {
   "cell_type": "code",
   "execution_count": null,
   "metadata": {},
   "outputs": [],
   "source": []
  }
 ],
 "metadata": {
  "kernelspec": {
   "display_name": "venv",
   "language": "python",
   "name": "python3"
  },
  "language_info": {
   "codemirror_mode": {
    "name": "ipython",
    "version": 3
   },
   "file_extension": ".py",
   "mimetype": "text/x-python",
   "name": "python",
   "nbconvert_exporter": "python",
   "pygments_lexer": "ipython3",
   "version": "3.13.1"
  }
 },
 "nbformat": 4,
 "nbformat_minor": 2
}
